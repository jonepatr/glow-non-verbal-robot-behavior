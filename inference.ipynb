{
 "cells": [
  {
   "cell_type": "code",
   "execution_count": 1,
   "metadata": {},
   "outputs": [],
   "source": [
    "import sys\n",
    "\n",
    "import glob\n",
    "from glow.builder import build\n",
    "from glow.config import JsonConfig\n",
    "import glow.utils\n",
    "\n",
    "from glow.dataset import Speech2FaceDataset\n",
    "from torch.utils.data import Dataset\n",
    "from torch.utils.data import DataLoader\n",
    "from tqdm import tqdm\n",
    "import torch\n",
    "from os.path import basename, join\n",
    "import numpy as np\n",
    "from luigi_pipeline.audio_processing import MelSpectrogram\n",
    "from luigi_pipeline.post_process_openpose import PostProcessOpenpose\n",
    "from luigi_pipeline.post_process_openface import PostProcessOpenface\n",
    "from luigi_pipeline.youtube_downloader import DownloadYoutubeAudio\n",
    "from luigi_pipeline.openface import Openface\n",
    "import luigi\n",
    "from multiprocessing import cpu_count\n",
    "from Speech2Face import utils\n",
    "from collections import defaultdict\n",
    "import time\n",
    "import matplotlib\n",
    "%matplotlib inline\n",
    "import matplotlib.pylab as plt\n",
    "import scipy.io\n",
    "import librosa.display\n",
    "import librosa\n",
    "import requests\n",
    "import json\n",
    "import tempfile\n",
    "import os\n",
    "import shutil\n",
    "import pandas as pd"
   ]
  },
  {
   "cell_type": "code",
   "execution_count": 2,
   "metadata": {},
   "outputs": [],
   "source": [
    "hparams_path = 'hparams/speech2face_cpu.json'\n",
    "yt_video_ids = [\"MS5UjNKw_1M\"]\n",
    "data_dir = '/Users/pj/phd/projects/word2face/code/data_dir'\n",
    "checkpoint_path = '/Users/pj/phd/projects/word2face/code/glow/trained.pkg'\n",
    "video_length = 160\n",
    "FPS = 30"
   ]
  },
  {
   "cell_type": "code",
   "execution_count": 3,
   "metadata": {},
   "outputs": [
    {
     "name": "stdout",
     "output_type": "stream",
     "text": [
      "[Checkpoint]: Load ./results/speech2face/trained.pkg successfully\n",
      "[Builder]: Use cpu to train.\n"
     ]
    }
   ],
   "source": [
    "hparams = JsonConfig(hparams_path)\n",
    "model = build(hparams, False)['graph']\n",
    "_ = model.eval()"
   ]
  },
  {
   "cell_type": "code",
   "execution_count": null,
   "metadata": {},
   "outputs": [],
   "source": []
  },
  {
   "cell_type": "code",
   "execution_count": null,
   "metadata": {},
   "outputs": [],
   "source": [
    "# checkpoint_model = torch.load(checkpoint_path, map_location='cpu')\n",
    "# print(checkpoint_model.keys())\n",
    "# model.load_state_dict(checkpoint_model['graph'])\n"
   ]
  },
  {
   "cell_type": "code",
   "execution_count": null,
   "metadata": {},
   "outputs": [],
   "source": []
  },
  {
   "cell_type": "code",
   "execution_count": 3,
   "metadata": {},
   "outputs": [
    {
     "name": "stderr",
     "output_type": "stream",
     "text": [
      "INFO:luigi:logging configured by default settings\n"
     ]
    },
    {
     "data": {
      "text/plain": [
       "True"
      ]
     },
     "execution_count": 3,
     "metadata": {},
     "output_type": "execute_result"
    }
   ],
   "source": [
    "luigi_tasks = []\n",
    "for yt_video_id in yt_video_ids:\n",
    "    luigi_tasks.append(MelSpectrogram(yt_video_id=yt_video_id, data_dir=data_dir, hop_length=540, sampling_rate=16200, n_fft=540))\n",
    "#     luigi_tasks.append(PostProcessOpenface(yt_video_id=yt_video_id, data_dir=data_dir))\n",
    "\n",
    "luigi.build(luigi_tasks, workers=cpu_count(), log_level=\"WARNING\", local_scheduler=True)"
   ]
  },
  {
   "cell_type": "code",
   "execution_count": 6,
   "metadata": {},
   "outputs": [],
   "source": [
    "# dataset = Speech2FaceDataset(data_dir=data_dir, total_frames=video_length, audio_feature_type='spectrogram')"
   ]
  },
  {
   "cell_type": "code",
   "execution_count": 21,
   "metadata": {},
   "outputs": [],
   "source": [
    "# data_loader = DataLoader(\n",
    "#     dataset,\n",
    "#     batch_size=hparams.Train.batch_size,\n",
    "# #    shuffle=True,\n",
    "# )"
   ]
  },
  {
   "cell_type": "code",
   "execution_count": 21,
   "metadata": {},
   "outputs": [
    {
     "data": {
      "text/plain": [
       "2"
      ]
     },
     "execution_count": 21,
     "metadata": {},
     "output_type": "execute_result"
    }
   ],
   "source": [
    "import random\n",
    "random.randint(0, 12)"
   ]
  },
  {
   "cell_type": "code",
   "execution_count": 4,
   "metadata": {},
   "outputs": [],
   "source": [
    "# new_clip = np.load(MelSpectrogram(yt_video_id=yt_video_id, data_dir=data_dir, hop_duration=0.033).output().path)\n",
    "old_clip = np.load(MelSpectrogram(yt_video_id=yt_video_ids[0], data_dir=data_dir, hop_duration=0.033).output().path)\n",
    "yt_audio_path = DownloadYoutubeAudio(yt_video_id=yt_video_ids[0], data_dir=data_dir).output().path\n",
    "\n",
    "start_position = 200\n",
    "end_position = start_position + hparams.Glow.spec_frames\n",
    "\n",
    "y___, sr___ = librosa.load(yt_audio_path, sr=16000, mono=True)\n",
    "\n",
    "dbb = torch.from_numpy(old_clip[start_position:end_position].T).unsqueeze(0).float().expand(hparams.Train.batch_size, -1, -1)\n",
    "\n",
    "new_old_img = model(audio_features=dbb, reverse=True)\n"
   ]
  },
  {
   "cell_type": "code",
   "execution_count": 17,
   "metadata": {},
   "outputs": [],
   "source": [
    "# librosa.display.specshow(old_clip[start_position:end_position].T, y_axis='log')\n",
    "def calc_au(x):\n",
    "    if x < 1:\n",
    "        x = 0\n",
    "    return min(round(x / 4, 4), 1)\n",
    "frames = []\n",
    "import math\n",
    "for i, x in enumerate(new_old_img[0].cpu().detach().numpy().transpose(1, 0, 2)):\n",
    "    AU01_r, AU02_r, AU04_r, AU45_r, pose_Rx, pose_Ry, pose_Rz, _ = x\n",
    "    AU01_r, AU02_r, AU04_r, AU45_r, pose_Rx, pose_Ry, pose_Rz = (\n",
    "        float(AU01_r[0]),\n",
    "        float(AU02_r[0]),\n",
    "        float(AU04_r[0]),\n",
    "        float(AU45_r[0]),\n",
    "        float(pose_Rx[0]),\n",
    "        float(pose_Ry[0]),\n",
    "        float(pose_Rz[0]),\n",
    "    )\n",
    "\n",
    "    \n",
    "    frames.append({\n",
    "        \"time\": [i*0.033],\n",
    "        \"persist\": False,\n",
    "        \"params\":{\n",
    "            \"BROW_IN_LEFT\": calc_au(AU01_r),\n",
    "            \"BROW_IN_RIGHT\": calc_au(AU01_r),\n",
    "            \"BROW_UP_LEFT\": calc_au(AU02_r),\n",
    "            \"BROW_UP_RIGHT\": calc_au(AU02_r),\n",
    "            \"BROW_DOWN_LEFT\": calc_au(AU04_r),\n",
    "            \"BROW_DOWN_RIGHT\": calc_au(AU04_r),\n",
    "            \"BLINK_LEFT\": calc_au(AU45_r),\n",
    "            \"BLINK_RIGHT\": calc_au(AU45_r),\n",
    "            \"NECK_ROLL\": math.degrees(pose_Rx) * -1,\n",
    "            \"NECK_TILT\": math.degrees(pose_Ry) * -1,\n",
    "            \"NECK_PAN\": math.degrees(pose_Rz) * -1,\n",
    "        }\n",
    "    })\n",
    "# import csv\n",
    "\n",
    "aaaaa = {\n",
    "    \"class\":\"furhatos.gestures.Gesture\",\n",
    "    \"frames\": frames\n",
    "}\n",
    "with open(\"/Users/pj/phd/projects/word2face/code/glow/blendshapes.json\", 'w') as f:    \n",
    "    json.dump(aaaaa, f)\n",
    "#     csv_writer = csv.writer(f)\n",
    "#     csv_writer.writerow([\n",
    "#         \"BROW_IN_LEFT\", \"BROW_IN_RIGHT\", \"BROW_UP_LEFT\", \"BROW_UP_RIGHT\", \"BROW_DOWN_LEFT\", \"BROW_DOWN_RIGHT\", \"BLINK_LEFT\", \"BLINK_RIGHT\", \"NECK_ROLL\", \"NECK_TILT\", \"NECK_PAN\" \n",
    "#     ])\n",
    "#     csv_writer.writerows(all_of_it)"
   ]
  },
  {
   "cell_type": "code",
   "execution_count": 7,
   "metadata": {},
   "outputs": [
    {
     "data": {
      "text/plain": [
       "<matplotlib.axes._subplots.AxesSubplot at 0x140ae6668>"
      ]
     },
     "execution_count": 7,
     "metadata": {},
     "output_type": "execute_result"
    },
    {
     "data": {
      "image/png": "[encoded data removed]",
      "text/plain": [
       "<Figure size 432x288 with 1 Axes>"
      ]
     },
     "metadata": {
      "needs_background": "light"
     },
     "output_type": "display_data"
    }
   ],
   "source": [
    "librosa.display.specshow(old_clip[start_position:end_position].T, y_axis='log')"
   ]
  },
  {
   "cell_type": "code",
   "execution_count": 52,
   "metadata": {},
   "outputs": [
    {
     "name": "stdout",
     "output_type": "stream",
     "text": [
      "[-0.061393626034259796, 0.21980583667755127, -0.127581387758255]\n",
      "[-0.06519278883934021, 0.20201902091503143, -0.10282661765813828]\n",
      "[-0.010135967284440994, 0.16566947102546692, -0.08714520186185837]\n",
      "[-0.013028055429458618, 0.13166092336177826, -0.09335440397262573]\n",
      "[-0.009206298738718033, 0.10695435106754303, -0.09566640108823776]\n",
      "[-0.011829465627670288, 0.08108171820640564, -0.08012062311172485]\n",
      "[0.004723984748125076, 0.06454001367092133, -0.07869455218315125]\n",
      "[0.02041444182395935, 0.06895335018634796, -0.07211659103631973]\n",
      "[0.021947672590613365, 0.049318261444568634, -0.05209675058722496]\n",
      "[0.019606806337833405, 0.04434735327959061, -0.04451420158147812]\n",
      "[0.022648239508271217, 0.034352824091911316, -0.04325775429606438]\n",
      "[0.0010176151990890503, 0.03084244392812252, -0.03144467622041702]\n",
      "[-0.005620185285806656, 0.007147639989852905, -0.019040465354919434]\n",
      "[-0.018313542008399963, 0.011583274230360985, -0.012703744694590569]\n",
      "[-0.03781568259000778, 0.02089224010705948, -0.00887928158044815]\n",
      "[-0.058353692293167114, 0.0070092445239424706, 0.0027049966156482697]\n",
      "[-0.017318658530712128, -0.004731953144073486, 0.004521965980529785]\n",
      "[-0.023990340530872345, -0.010877715423703194, -0.0011888016015291214]\n",
      "[-0.015428036451339722, -0.03518042713403702, -0.00769786536693573]\n",
      "[-0.015721842646598816, -0.03262726590037346, -0.010575419291853905]\n",
      "[-0.018366843461990356, -0.029255054891109467, 0.004607580602169037]\n",
      "[-0.047478318214416504, -0.01885777711868286, 0.0013114139437675476]\n",
      "[-0.05872843414545059, -0.04937740042805672, -0.0036871731281280518]\n",
      "[-0.052169546484947205, -0.05036081001162529, -0.015548387542366982]\n",
      "[-0.06781308352947235, -0.03305845335125923, -0.047974392771720886]\n",
      "[-0.06803116202354431, -0.03428027778863907, -0.06472693383693695]\n",
      "[-0.09908587485551834, -0.019584305584430695, -0.07508803904056549]\n",
      "[-0.09792700409889221, -0.011368511244654655, -0.09227650612592697]\n",
      "[-0.10728635638952255, 0.0017680451273918152, -0.12790784239768982]\n",
      "[-0.11193153262138367, 0.0010227542370557785, -0.14136497676372528]\n",
      "[-0.10184689611196518, 0.005745798349380493, -0.15314032137393951]\n",
      "[-0.08543792366981506, 0.02027914673089981, -0.16048604249954224]\n",
      "[-0.055023372173309326, 0.0431877002120018, -0.16556791961193085]\n",
      "[-0.03876248002052307, 0.06778905540704727, -0.16454139351844788]\n",
      "[0.014139670878648758, 0.08298653364181519, -0.16692477464675903]\n",
      "[0.04209553450345993, 0.09566245973110199, -0.17280767858028412]\n",
      "[0.04601553827524185, 0.10466471314430237, -0.1871936023235321]\n",
      "[0.03526237607002258, 0.09691281616687775, -0.18549741804599762]\n",
      "[0.023072917014360428, 0.09948530793190002, -0.20247484743595123]\n",
      "[0.0373656302690506, 0.1016673892736435, -0.2041091024875641]\n",
      "[0.03413982689380646, 0.09009379148483276, -0.2176724374294281]\n",
      "[0.03971472755074501, 0.08567506074905396, -0.2124404013156891]\n",
      "[0.05853857100009918, 0.09004993736743927, -0.21889959275722504]\n",
      "[0.04435157775878906, 0.09506717324256897, -0.2225116640329361]\n",
      "[0.013548236340284348, 0.08485329151153564, -0.23542647063732147]\n",
      "[-0.003948770463466644, 0.09161405265331268, -0.24122197926044464]\n",
      "[0.008472152054309845, 0.10327668488025665, -0.23605170845985413]\n",
      "[0.04208963364362717, 0.1202627420425415, -0.23174072802066803]\n",
      "[0.05502985417842865, 0.12811394035816193, -0.19715702533721924]\n",
      "[0.05047822743654251, 0.12363304197788239, -0.1739622950553894]\n",
      "[0.0571233406662941, 0.15503373742103577, -0.1563776284456253]\n",
      "[0.0868208110332489, 0.12034067511558533, -0.12179357558488846]\n",
      "[0.11021913588047028, 0.13105542957782745, -0.13686297833919525]\n",
      "[0.11133260279893875, 0.10844732820987701, -0.12333371490240097]\n",
      "[0.09709620475769043, 0.08287423849105835, -0.10895736515522003]\n",
      "[0.09625802934169769, 0.04835466295480728, -0.08754152059555054]\n",
      "[0.08631876111030579, 0.0760248601436615, -0.09369022399187088]\n",
      "[0.08583652973175049, 0.060874614864587784, -0.06318558752536774]\n",
      "[0.06083293259143829, 0.03521905094385147, -0.049811653792858124]\n",
      "[0.06142834573984146, 0.07063792645931244, -0.06979777663946152]\n",
      "[0.044805604964494705, 0.06237664818763733, -0.033132679760456085]\n",
      "[0.040872737765312195, 0.05888203904032707, -0.04401309788227081]\n",
      "[0.047780148684978485, 0.05167831480503082, -0.04094552621245384]\n",
      "[0.07303488999605179, 0.059366509318351746, -0.046811021864414215]\n",
      "[0.12150224298238754, 0.05503980815410614, -0.057161759585142136]\n",
      "[0.152070552110672, 0.022970015183091164, -0.04565073549747467]\n",
      "[0.12420514971017838, 0.05863751471042633, -0.03375812619924545]\n",
      "[0.1619790494441986, 0.05273151025176048, -0.026803528890013695]\n",
      "[0.17244073748588562, 0.034158945083618164, -0.003159470856189728]\n",
      "[0.1610938012599945, -0.004963383078575134, -0.003180691972374916]\n",
      "[0.20735448598861694, -0.019291117787361145, 0.018090680241584778]\n",
      "[0.15455323457717896, -0.07887105643749237, 0.026900900527834892]\n",
      "[0.13834542036056519, -0.08752068132162094, 0.033410534262657166]\n",
      "[0.16319876909255981, -0.14848420023918152, 0.03482431173324585]\n",
      "[0.10955208539962769, -0.12428519874811172, 0.03531855344772339]\n",
      "[0.10024802386760712, -0.13650675117969513, 0.051454778760671616]\n",
      "[0.0321313813328743, -0.12226860970258713, 0.03841178119182587]\n",
      "[0.007438816130161285, -0.12524384260177612, 0.04188358783721924]\n",
      "[0.002477206289768219, -0.10554978251457214, 0.04127979278564453]\n",
      "[0.010506615042686462, -0.10710446536540985, 0.0393221378326416]\n",
      "[0.016404861584305763, -0.09490850567817688, 0.029298052191734314]\n",
      "[0.04172985255718231, -0.08335508406162262, 0.029870878905057907]\n",
      "[0.03832484781742096, -0.0651736631989479, 0.02609524130821228]\n",
      "[0.05321091040968895, -0.06189623102545738, 0.03126591444015503]\n",
      "[0.021745458245277405, -0.03927380219101906, 0.03211002051830292]\n",
      "[0.006237976253032684, -0.04249468073248863, 0.027766114100813866]\n",
      "[-0.0021599233150482178, -0.04139312356710434, 0.02391315996646881]\n",
      "[0.014965228736400604, -0.054006677120923996, 0.023012857884168625]\n",
      "[0.001213904470205307, -0.06462687999010086, 0.013865567743778229]\n",
      "[0.006882227957248688, -0.07331129908561707, 0.007909709587693214]\n",
      "[0.000524379312992096, -0.05907844007015228, 0.0008656308054924011]\n",
      "[0.0038463398814201355, -0.06446437537670135, 0.0021468624472618103]\n",
      "[0.0030049867928028107, -0.06275290995836258, 0.0048681870102882385]\n",
      "[0.008011892437934875, -0.06288190186023712, 0.0038619115948677063]\n",
      "[0.005002520978450775, -0.06893454492092133, 0.012917086482048035]\n",
      "[-0.010220199823379517, -0.063070148229599, 0.012182177975773811]\n",
      "[-0.02976873517036438, -0.061462633311748505, 0.01776175945997238]\n",
      "[-0.07020115852355957, -0.07125762104988098, 0.01439603790640831]\n",
      "[-0.11663734167814255, -0.08257538825273514, 0.0013129115104675293]\n",
      "[-0.12894487380981445, -0.09082089364528656, -0.005370734259486198]\n",
      "[-0.14009353518486023, -0.0711386650800705, -0.013266503810882568]\n",
      "[-0.11690370738506317, -0.07728450000286102, -0.015472562983632088]\n",
      "[-0.08846298605203629, -0.05653669685125351, -0.024516038596630096]\n",
      "[-0.07144345343112946, -0.05092568323016167, -0.030253658071160316]\n",
      "[-0.058818116784095764, -0.04806061089038849, -0.03252062201499939]\n",
      "[-0.03604213893413544, -0.04115940257906914, -0.024239307269454002]\n",
      "[-0.023583590984344482, -0.02139594778418541, -0.039534032344818115]\n",
      "[-0.02938002347946167, -0.009625937789678574, -0.029395965859293938]\n",
      "[-0.04640786349773407, -0.02475154772400856, -0.045542314648628235]\n",
      "[-0.044709742069244385, -0.018491163849830627, -0.0452609658241272]\n",
      "[-0.016524530947208405, -0.034604378044605255, -0.04310379549860954]\n",
      "[-0.017740316689014435, -0.026850074529647827, -0.041758596897125244]\n",
      "[0.004370011389255524, -0.00045428425073623657, -0.023613683879375458]\n",
      "[0.004862114787101746, 0.0042795659974217415, -0.014236768707633018]\n",
      "[0.017932189628481865, 0.021522894501686096, -0.0043620765209198]\n",
      "[-0.00092276930809021, 0.016677189618349075, -0.008095869794487953]\n",
      "[-0.000630207359790802, -0.0012019574642181396, -0.0082712322473526]\n",
      "[0.005641601979732513, -0.020944692194461823, -0.03320707380771637]\n",
      "[0.005286354571580887, -0.019438549876213074, -0.0038621798157691956]\n",
      "[-0.002729177474975586, -0.029893167316913605, -0.005045710131525993]\n",
      "[-0.028998903930187225, -0.04062056541442871, -0.009784094989299774]\n",
      "[-0.0500698983669281, -0.05425797030329704, -0.004323167726397514]\n",
      "[-0.06785064190626144, -0.06728549301624298, -0.00937875360250473]\n"
     ]
    },
    {
     "name": "stdout",
     "output_type": "stream",
     "text": [
      "[-0.059032365679740906, -0.09200996160507202, -0.023702571168541908]\n",
      "[-0.04446721822023392, -0.12340210378170013, -0.02329796552658081]\n",
      "[-0.0339430570602417, -0.15207251906394958, -0.045221805572509766]\n",
      "[0.008436597883701324, -0.11284185945987701, -0.068300761282444]\n",
      "[-0.025021381676197052, -0.10080933570861816, -0.057627685368061066]\n",
      "[-0.08836527913808823, -0.03840428218245506, -0.06688044965267181]\n",
      "[-0.08424600958824158, -0.023879434913396835, -0.05694916844367981]\n",
      "[-0.07605982571840286, -0.028025507926940918, -0.05378961190581322]\n",
      "[-0.07530760765075684, -0.02008923515677452, -0.05213665962219238]\n",
      "[-0.09133150428533554, -0.03746839985251427, -0.05674571171402931]\n",
      "[-0.10416850447654724, -0.037735696882009506, -0.06098216027021408]\n",
      "[-0.11214133352041245, -0.025267355144023895, -0.07197577506303787]\n",
      "[-0.08028233051300049, -0.05148453637957573, -0.06401168555021286]\n",
      "[-0.068379245698452, -0.06479139626026154, -0.07203009724617004]\n",
      "[-0.06175979971885681, -0.059017810970544815, -0.08203093707561493]\n",
      "[-0.04226893186569214, -0.07352332025766373, -0.07775767147541046]\n",
      "[-0.04198084771633148, -0.08314506709575653, -0.07839164137840271]\n",
      "[-0.055985890328884125, -0.09378737211227417, -0.07797123491764069]\n",
      "[-0.05147050321102142, -0.11883807182312012, -0.08702650666236877]\n",
      "[-0.05463825911283493, -0.1300216019153595, -0.1029389351606369]\n",
      "[-0.03429197520017624, -0.13585160672664642, -0.10684370249509811]\n",
      "[-0.029892943799495697, -0.14277076721191406, -0.11011607199907303]\n",
      "[-0.010310627520084381, -0.14332036674022675, -0.11027488857507706]\n",
      "[0.002425059676170349, -0.1415381133556366, -0.10453912615776062]\n",
      "[-0.019304126501083374, -0.1535528600215912, -0.10822800546884537]\n",
      "[-0.04147583991289139, -0.1497526466846466, -0.10204745829105377]\n",
      "[-0.04063840210437775, -0.15149246156215668, -0.10072136670351028]\n",
      "[-0.052239276468753815, -0.14750605821609497, -0.09800451248884201]\n",
      "[-0.05071026086807251, -0.15151844918727875, -0.08822110295295715]\n",
      "[-0.06177498400211334, -0.16106511652469635, -0.0837433785200119]\n",
      "[-0.03835061192512512, -0.17674101889133453, -0.07666000723838806]\n",
      "[-0.036826059222221375, -0.18166321516036987, -0.07242299616336823]\n",
      "[-0.047708138823509216, -0.1813528686761856, -0.0729946568608284]\n",
      "[-0.04590115696191788, -0.16786783933639526, -0.07098101079463959]\n",
      "[-0.06295172870159149, -0.16586032509803772, -0.07637084275484085]\n",
      "[-0.073270283639431, -0.15653519332408905, -0.07304918766021729]\n",
      "[-0.06035785377025604, -0.16468065977096558, -0.08045210689306259]\n",
      "/Users/pj/miniconda3/envs/text2face/bin/ffmpeg -y -framerate 30 -pattern_type glob -i /Users/pj/phd/projects/word2face/code/glow/tmp_img/*.png -ss 6.666666666666667 -t 5.333333333333333 -i /Users/pj/phd/projects/word2face/code/data_dir/DownloadYoutubeAudio/ffmpeg_bin_ffmpeg-fs_16000/390CWyYkH3M.wav /Users/pj/phd/projects/word2face/code/glow/new_video.mp4\n"
     ]
    }
   ],
   "source": [
    "vr = VideoRender(render_url='http://localhost:5000')\n",
    "vr.render('/Users/pj/phd/projects/word2face/code/glow/new_video.mp4', new_old_img[0].cpu().detach().numpy().transpose(1, 0, 2), yt_audio_path, '', start_position)"
   ]
  },
  {
   "cell_type": "code",
   "execution_count": 51,
   "metadata": {},
   "outputs": [],
   "source": [
    "class VideoRender(object):\n",
    "    def __init__(self, render_url, ffmpeg_bin=None):\n",
    "        requests.post(render_url, {})\n",
    "        self.render_url = render_url\n",
    "\n",
    "        if not ffmpeg_bin:\n",
    "            for sys_path in os.environ[\"PATH\"].split(\":\"):\n",
    "                ffmpeg_location = os.path.join(sys_path, \"ffmpeg\")\n",
    "                if os.path.isfile(ffmpeg_location):\n",
    "                    ffmpeg_bin = ffmpeg_location\n",
    "                    break\n",
    "\n",
    "        assert ffmpeg_bin is not None\n",
    "        self.ffmpeg_bin = ffmpeg_bin\n",
    "\n",
    "    @staticmethod\n",
    "    def calc_au(x):\n",
    "        if x < 1:\n",
    "            x = 0\n",
    "        return round(x / 4, 4)\n",
    "\n",
    "    def render(\n",
    "        self, file_name, generated_values, audio_path, video_file, first_frame, fps=30\n",
    "    ):\n",
    "        td = '/Users/pj/phd/projects/word2face/code/glow/tmp_img'\n",
    "#         with tempfile.TemporaryDirectory() as td:\n",
    "        for i, x in enumerate(generated_values):\n",
    "            AU01_r, AU02_r, AU04_r, AU45_r, pose_Rx, pose_Ry, pose_Rz, _ = x\n",
    "            AU01_r, AU02_r, AU04_r, AU45_r, pose_Rx, pose_Ry, pose_Rz = (\n",
    "                float(AU01_r[0]),\n",
    "                float(AU02_r[0]),\n",
    "                float(AU04_r[0]),\n",
    "                float(AU45_r[0]),\n",
    "                float(pose_Rx[0]),\n",
    "                float(pose_Ry[0]),\n",
    "                float(pose_Rz[0]),\n",
    "            )\n",
    "            print([pose_Rx, pose_Ry, pose_Rz])\n",
    "            data = {\n",
    "                \"Head_Mesh\": {\n",
    "                    \"blendshapes\": {\n",
    "                        \"BrowsU_C_L\": self.calc_au(AU01_r),  # AU01\n",
    "                        \"BrowsU_C_R\": self.calc_au(AU01_r),  # AU01\n",
    "                        \"BrowsU_L\": self.calc_au(AU02_r),  # AU02\n",
    "                        \"BrowsU_R\": self.calc_au(AU02_r),  # AU02\n",
    "                        \"BrowsD_L\": self.calc_au(AU04_r),  # AU04\n",
    "                        \"BrowsD_R\": self.calc_au(AU04_r),  # AU04\n",
    "                        \"EyeBlink_L\": self.calc_au(AU45_r),  # AU45\n",
    "                        \"EyeBlink_R\": self.calc_au(AU45_r),  # AU45\n",
    "                    }\n",
    "                },\n",
    "                \"jointShouldersMiddle\": {\n",
    "                    \"bones\": {\n",
    "                        \"jointNeck\": {\"rotation\": [pose_Rx, pose_Ry, pose_Rz]},\n",
    "                        \"jointEyeLeft\": {\n",
    "                            \"rotation\": [-pose_Rx, -pose_Ry, -pose_Rz]\n",
    "                        },\n",
    "                        \"jointEyeRight\": {\n",
    "                            \"rotation\": [-pose_Rx, -pose_Ry, -pose_Rz]\n",
    "                        },\n",
    "                    }\n",
    "                },\n",
    "            }\n",
    "\n",
    "            d = requests.post(self.render_url, json.dumps(data))\n",
    "\n",
    "            with open(os.path.join(td, f\"{str(i).zfill(3)}.png\"), \"wb\") as f:\n",
    "                f.write(d.content)\n",
    "\n",
    "            os.makedirs(os.path.dirname(file_name), exist_ok=True)\n",
    "            os.system(' '.join([\n",
    "                    self.ffmpeg_bin,\n",
    "                    \"-y\",\n",
    "                    \"-framerate\",\n",
    "                    \"30\",\n",
    "                    \"-pattern_type\",\n",
    "                    \"glob\",\n",
    "                    \"-i\",\n",
    "                    f'\"{os.path.join(td, \"*.png\")}\"',\n",
    "                    \"-ss\",\n",
    "                    str(float(first_frame) / fps),\n",
    "                    \"-t\",\n",
    "                    str(float(generated_values.shape[0]) / fps),\n",
    "                    \"-i\",\n",
    "                    audio_path,\n",
    "                    file_name,\n",
    "                ]))\n",
    "        print(' '.join([\n",
    "            self.ffmpeg_bin,\n",
    "            \"-y\",\n",
    "            \"-framerate\",\n",
    "            \"30\",\n",
    "            \"-pattern_type\",\n",
    "            \"glob\",\n",
    "            \"-i\",\n",
    "            os.path.join(td, \"*.png\"),\n",
    "            \"-ss\",\n",
    "            str(float(first_frame) / fps),\n",
    "            \"-t\",\n",
    "            str(float(generated_values.shape[0]) / fps),\n",
    "            \"-i\",\n",
    "            audio_path,\n",
    "            file_name,\n",
    "        ]))"
   ]
  },
  {
   "cell_type": "code",
   "execution_count": null,
   "metadata": {},
   "outputs": [],
   "source": []
  },
  {
   "cell_type": "code",
   "execution_count": 12,
   "metadata": {},
   "outputs": [],
   "source": [
    "# render('ground_truth.mp4', data['x'][0], y[base:base + int((video_length)/FPS * sr)], sr)"
   ]
  },
  {
   "cell_type": "code",
   "execution_count": 13,
   "metadata": {},
   "outputs": [],
   "source": [
    "# render('generated.mp4', img[0], y[base:base + int((video_length)/FPS * sr)], sr)"
   ]
  },
  {
   "cell_type": "code",
   "execution_count": 14,
   "metadata": {},
   "outputs": [],
   "source": [
    "# plt.imshow(data['audio_features'][0].cpu().detach().numpy())\n",
    "# plt.show()\n",
    "\n",
    "# librosa.display.specshow(data['audio_features'][71].cpu().detach().numpy().T, x_axis='time', y_axis='log')\n",
    "# plt.imshow(data['audio_features'][0].cpu().detach().numpy().T)\n",
    "# plt.show()"
   ]
  },
  {
   "cell_type": "code",
   "execution_count": 15,
   "metadata": {},
   "outputs": [],
   "source": [
    "# y, sr = librosa.load(data[\"audio_path\"][71], sr=16000, mono=True)\n",
    "\n",
    "# y /= np.abs(np.max(y))\n",
    "\n",
    "# base = sr * data[\"first_frame\"][71]/FPS\n",
    "# y_part = y[base:base + int((video_length)/FPS * sr)]\n",
    "\n",
    "\n",
    "# spectrogram = np.abs(\n",
    "#             librosa.stft(\n",
    "#                 y=y_part,\n",
    "#                 n_fft=2048,\n",
    "#                 hop_length=int(0.033 * sr),\n",
    "#                 center=False,\n",
    "#             )\n",
    "#             ** 2\n",
    "#         )\n",
    "\n",
    "\n",
    "# melspectrogram = librosa.feature.melspectrogram(\n",
    "#     S=spectrogram, n_mels=80\n",
    "# )\n",
    "# melspectrogram = librosa.core.power_to_db(melspectrogram)\n",
    "# librosa.display.specshow(melspectrogram, y_axis='log')\n",
    "\n",
    "# # base = sr * data[\"first_frame\"][0]/29.93\n",
    "\n",
    "\n"
   ]
  },
  {
   "cell_type": "code",
   "execution_count": 16,
   "metadata": {},
   "outputs": [],
   "source": [
    "# librosa.display.waveplot(y[base:base + int((video_length)/FPS * sr)])\n",
    "\n"
   ]
  },
  {
   "cell_type": "code",
   "execution_count": null,
   "metadata": {},
   "outputs": [],
   "source": []
  },
  {
   "cell_type": "code",
   "execution_count": 17,
   "metadata": {},
   "outputs": [],
   "source": [
    "# new_path = 'results/result_file.mp4'\n",
    "\n",
    "\n",
    "\n",
    "# utils.save_video_with_audio_reference(\n",
    "#     img[0]\n",
    "#     .cpu()\n",
    "#     .detach()\n",
    "#     .numpy()\n",
    "#     .transpose(1, 0, 2)\n",
    "#     .reshape(video_length, 70, 2),\n",
    "#     new_path,\n",
    "#     data[\"audio_path\"][0],\n",
    "#     data[\"first_frame\"][0],\n",
    "# )"
   ]
  },
  {
   "cell_type": "code",
   "execution_count": null,
   "metadata": {},
   "outputs": [],
   "source": []
  },
  {
   "cell_type": "code",
   "execution_count": 18,
   "metadata": {},
   "outputs": [],
   "source": [
    "# def calc_au(x):\n",
    "#     if x < 1:\n",
    "#         x = 0\n",
    "#     return round(x/2, 4)\n",
    "\n",
    "# def render(file_name, xx, audio, sr):\n",
    "#     try:\n",
    "#         shutil.rmtree('iiiimg') \n",
    "#     except:\n",
    "#         pass\n",
    "#     os.mkdir('iiiimg')\n",
    "#     for i, x in enumerate(tqdm(xx.cpu().detach().numpy().transpose(1, 0, 2))):\n",
    "#         AU01_r, AU02_r, AU04_r, pose_Rx, pose_Ry, pose_Rz = x\n",
    "#         AU01_r, AU02_r, AU04_r, pose_Rx, pose_Ry, pose_Rz = AU01_r[0], AU02_r[0], AU04_r[0], pose_Rx[0], pose_Ry[0], pose_Rz[0]\n",
    "\n",
    "#         data = {\n",
    "#             'BrowsU_C_L': calc_au(AU01_r), # AU01\n",
    "#             'BrowsU_C_R': calc_au(AU01_r), # AU01\n",
    "#             'BrowsU_L': calc_au(AU01_r),  # AU02\n",
    "#             'BrowsU_R': calc_au(AU01_r),  # AU02\n",
    "#             'BrowsD_L': calc_au(AU01_r), #  AU04\n",
    "#             'BrowsD_R': calc_au(AU01_r), #  AU04 \n",
    "#             'rotation': f'euler_xyz,{pose_Rx},{pose_Ry},{pose_Rz}'\n",
    "#         }\n",
    "\n",
    "#         d = requests.post('http://localhost:5000', json.dumps(data))\n",
    "        \n",
    "#         with open(f'iiiimg/{str(i).zfill(3)}.png', 'wb') as f:\n",
    "#             f.write(d.content)\n",
    "\n",
    "#     librosa.output.write_wav('small_wav.wav', audio, sr)\n",
    "#     os.system(f\"ffmpeg -y -framerate 30 -pattern_type glob -i 'iiiimg/*.png' -i small_wav.wav {file_name}\")\n",
    "\n",
    "\n"
   ]
  },
  {
   "cell_type": "code",
   "execution_count": null,
   "metadata": {},
   "outputs": [],
   "source": []
  },
  {
   "cell_type": "code",
   "execution_count": 19,
   "metadata": {},
   "outputs": [],
   "source": [
    "# def renderer():\n",
    "#     pass"
   ]
  },
  {
   "cell_type": "code",
   "execution_count": 6,
   "metadata": {},
   "outputs": [
    {
     "name": "stdout",
     "output_type": "stream",
     "text": [
      "(2684678,) 165.72086419753086 165.66666666666666\n",
      "a 4522\n",
      "540\n",
      "(80, 4971)\n",
      "(80, 4971) (271, 4971) 10 4950 (4971, 80) 4970\n"
     ]
    },
    {
     "data": {
      "image/png": "[encoded data removed]",
      "text/plain": [
       "<Figure size 432x288 with 1 Axes>"
      ]
     },
     "metadata": {
      "needs_background": "light"
     },
     "output_type": "display_data"
    }
   ],
   "source": [
    "face_path = Openface(yt_video_id=yt_video_ids[0], data_dir=data_dir).output().path\n",
    "# mel_path = MelSpectrogram(yt_video_id=yt_video_ids[0], data_dir=data_dir, hop_duration=1/30).output().path\n",
    "mel_path = MelSpectrogram(yt_video_id=yt_video_id, data_dir=data_dir, hop_length=540, sampling_rate=16200, n_fft=540).output().path\n",
    "wav_path = DownloadYoutubeAudio(yt_video_id=yt_video_ids[0], data_dir=data_dir).output().path\n",
    "melspec = np.load(mel_path)\n",
    "face = pd.read_csv(face_path)\n",
    "y,sr = librosa.core.load(wav_path, sr=16200, mono=True)\n",
    "# wav_melspec = librosa.feature.melspectrogram(y, n_fft=2048, hop_length=int(0.033*16000))\n",
    "# y = y[:-(16200-4522)] # 16200\n",
    "# y = y[:-(16000-4467)]\n",
    "\n",
    "print(y.shape, y.shape[0]/sr, len(face) * (1./30.))\n",
    "\n",
    "print('a', (166 * sr) - y.shape[0])\n",
    "hop_length = round((1./30.) * sr)\n",
    "print(round(hop_length))\n",
    "spectrogram = np.abs(\n",
    "    librosa.stft(\n",
    "        y=y,\n",
    "        n_fft=hop_length,\n",
    "        hop_length=hop_length,\n",
    "        center=False,\n",
    "        window='hann'\n",
    "    )\n",
    "    ** 2\n",
    ")\n",
    "\n",
    "melspectrogram = librosa.feature.melspectrogram(\n",
    "    S=spectrogram, n_mels=80\n",
    ")\n",
    "\n",
    "D = librosa.power_to_db(melspectrogram)\n",
    "print(D.shape)\n",
    "print(melspectrogram.shape, spectrogram.shape, (166*30) - len(face), len(face[:-20]), melspec.shape, len(face))\n",
    "# librosa.display.specshow(spectrogram[:, 500:750], y_axis='log', x_axis='time')\n",
    "librosa.display.specshow(D[:,500:750], y_axis='mel', x_axis='time')\n",
    "plt.show()"
   ]
  },
  {
   "cell_type": "code",
   "execution_count": null,
   "metadata": {},
   "outputs": [],
   "source": []
  },
  {
   "cell_type": "code",
   "execution_count": null,
   "metadata": {},
   "outputs": [],
   "source": []
  }
 ],
 "metadata": {
  "kernelspec": {
   "display_name": "Python 2",
   "language": "python",
   "name": "python2"
  },
  "language_info": {
   "codemirror_mode": {
    "name": "ipython",
    "version": 3
   },
   "file_extension": ".py",
   "mimetype": "text/x-python",
   "name": "python",
   "nbconvert_exporter": "python",
   "pygments_lexer": "ipython3",
   "version": "3.7.0"
  }
 },
 "nbformat": 4,
 "nbformat_minor": 1
}
